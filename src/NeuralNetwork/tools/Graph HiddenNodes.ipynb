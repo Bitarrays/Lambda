{
 "cells": [
  {
   "cell_type": "markdown",
   "metadata": {},
   "source": [
    "# Exemple de graphique 1\n",
    "\n",
    "Ce Notebook génere et affiche un graphique qui montre la réussite d'un réseau de neurones en fonction du nombre de neurones cachés (affiché dans le rapport de soutenance)"
   ]
  },
  {
   "cell_type": "markdown",
   "metadata": {},
   "source": [
    "_Préparation_"
   ]
  },
  {
   "cell_type": "code",
   "execution_count": 1,
   "metadata": {},
   "outputs": [],
   "source": [
    "import os\n",
    "os.environ[\"LAMBDALIBPATH\"] = \"../lib/LambdaNeuralNetwork.so\"\n",
    "import NNPythonBindings.core as core\n",
    "import NNPythonBindings.structures as structs\n"
   ]
  },
  {
   "cell_type": "code",
   "execution_count": 2,
   "metadata": {},
   "outputs": [],
   "source": [
    "noImagesPerClass = 100\n",
    "d = core.LoadDataset(\"/Users/maxime/datasetBIGUL3\", 68, noImagesPerClass, structs.MMContext.CHARS_CTX)"
   ]
  },
  {
   "cell_type": "code",
   "execution_count": 3,
   "metadata": {},
   "outputs": [],
   "source": [
    "results = []"
   ]
  },
  {
   "cell_type": "markdown",
   "metadata": {},
   "source": [
    "_Entrainements_"
   ]
  },
  {
   "cell_type": "code",
   "execution_count": 4,
   "metadata": {},
   "outputs": [],
   "source": [
    "for hiddenNodes in range(0, 1300, 50):\n",
    "    n = core.InitNetwork(1024, hiddenNodes, 68)\n",
    "    core.InitWeightsForNetwork(n)\n",
    "    \n",
    "    learningRate = 0.5\n",
    "    env = core.TrainingEnvironment(n, 68*noImagesPerClass, learningRate)\n",
    "    \n",
    "    for gen in range(10):\n",
    "        stats = core.Train(n, d, env, structs.MMContext.CHARS_CTX)\n",
    "    results.append(stats.rate)"
   ]
  },
  {
   "cell_type": "markdown",
   "metadata": {},
   "source": [
    "_Affichage du graphique_"
   ]
  },
  {
   "cell_type": "code",
   "execution_count": 6,
   "metadata": {},
   "outputs": [
    {
     "data": {
      "application/vnd.jupyter.widget-view+json": {
       "model_id": "5eb09c36c370472580ad8c285128d6f4",
       "version_major": 2,
       "version_minor": 0
      },
      "text/plain": [
       "Canvas(toolbar=Toolbar(toolitems=[('Home', 'Reset original view', 'home', 'home'), ('Back', 'Back to  previous…"
      ]
     },
     "metadata": {},
     "output_type": "display_data"
    },
    {
     "data": {
      "text/plain": [
       "Text(0.5,1,'Succès en fonction du nombre de neurones cachés après 10 génerations')"
      ]
     },
     "execution_count": 6,
     "metadata": {},
     "output_type": "execute_result"
    }
   ],
   "source": [
    "import matplotlib.pyplot as plt\n",
    "%matplotlib widget\n",
    "x = range(0, 1300, 50)\n",
    "plt.bar(x, results, 40,color='green')\n",
    "plt.xlabel(\"Neurones cachés\")\n",
    "plt.ylabel(\"Taux de succès\")\n",
    "plt.title(\"Succès en fonction du nombre de neurones cachés après 10 génerations\")"
   ]
  }
 ],
 "metadata": {
  "kernelspec": {
   "display_name": "Python 3.7",
   "language": "python",
   "name": "py3.7"
  },
  "language_info": {
   "codemirror_mode": {
    "name": "ipython",
    "version": 3
   },
   "file_extension": ".py",
   "mimetype": "text/x-python",
   "name": "python",
   "nbconvert_exporter": "python",
   "pygments_lexer": "ipython3",
   "version": "3.7.5"
  }
 },
 "nbformat": 4,
 "nbformat_minor": 4
}
